{
  "nbformat": 4,
  "nbformat_minor": 0,
  "metadata": {
    "colab": {
      "provenance": [],
      "authorship_tag": "ABX9TyOWGkbcNYOInOhEfgmKiSzF",
      "include_colab_link": true
    },
    "kernelspec": {
      "name": "python3",
      "display_name": "Python 3"
    },
    "language_info": {
      "name": "python"
    }
  },
  "cells": [
    {
      "cell_type": "markdown",
      "metadata": {
        "id": "view-in-github",
        "colab_type": "text"
      },
      "source": [
        "<a href=\"https://colab.research.google.com/github/DiegoJSG/Collections_do_Python/blob/main/Collections_Parte_2.ipynb\" target=\"_parent\"><img src=\"https://colab.research.google.com/assets/colab-badge.svg\" alt=\"Open In Colab\"/></a>"
      ]
    },
    {
      "cell_type": "code",
      "execution_count": null,
      "metadata": {
        "id": "CJUCVhe9TnMz"
      },
      "outputs": [],
      "source": [
        "usuarios_data_science = [29,30,20]\n",
        "usuarios_machine_learnig = [28,29,19]"
      ]
    },
    {
      "cell_type": "code",
      "source": [
        "assistiram = usuarios_data_science.copy()\n",
        "assistiram.extend(usuarios_machine_learnig)\n",
        "assistiram"
      ],
      "metadata": {
        "colab": {
          "base_uri": "https://localhost:8080/"
        },
        "id": "ioPfqpDnXJli",
        "outputId": "8650fb4d-3986-4867-9a13-e6dccebbbb7e"
      },
      "execution_count": null,
      "outputs": [
        {
          "output_type": "execute_result",
          "data": {
            "text/plain": [
              "[29, 30, 20, 28, 29, 19]"
            ]
          },
          "metadata": {},
          "execution_count": 4
        }
      ]
    },
    {
      "cell_type": "code",
      "source": [
        "len(assistiram)"
      ],
      "metadata": {
        "colab": {
          "base_uri": "https://localhost:8080/"
        },
        "id": "GgjYiz5pYVGB",
        "outputId": "fc9b8d88-58d0-41c4-c5fe-847947aea56f"
      },
      "execution_count": null,
      "outputs": [
        {
          "output_type": "execute_result",
          "data": {
            "text/plain": [
              "6"
            ]
          },
          "metadata": {},
          "execution_count": 5
        }
      ]
    },
    {
      "cell_type": "code",
      "source": [
        "set(assistiram)"
      ],
      "metadata": {
        "colab": {
          "base_uri": "https://localhost:8080/"
        },
        "id": "fl6pR4s0XimQ",
        "outputId": "8b4dba47-f7cc-42be-a2ea-27af0257e698"
      },
      "execution_count": null,
      "outputs": [
        {
          "output_type": "execute_result",
          "data": {
            "text/plain": [
              "{19, 20, 28, 29, 30}"
            ]
          },
          "metadata": {},
          "execution_count": 6
        }
      ]
    },
    {
      "cell_type": "code",
      "source": [
        "set([1,2,3])"
      ],
      "metadata": {
        "colab": {
          "base_uri": "https://localhost:8080/"
        },
        "id": "9cG9mJTVY4r2",
        "outputId": "3fa6ef97-aa6b-4e1c-8da7-31de94bf5a9f"
      },
      "execution_count": null,
      "outputs": [
        {
          "output_type": "execute_result",
          "data": {
            "text/plain": [
              "{1, 2, 3}"
            ]
          },
          "metadata": {},
          "execution_count": 8
        }
      ]
    },
    {
      "cell_type": "code",
      "source": [
        "type({1,2})"
      ],
      "metadata": {
        "colab": {
          "base_uri": "https://localhost:8080/"
        },
        "id": "JOYIyyPqZEuP",
        "outputId": "af67a36f-48c5-4807-b495-ddf7e6218ed3"
      },
      "execution_count": null,
      "outputs": [
        {
          "output_type": "execute_result",
          "data": {
            "text/plain": [
              "set"
            ]
          },
          "metadata": {},
          "execution_count": 12
        }
      ]
    },
    {
      "cell_type": "code",
      "source": [
        "usuarios_data_science = {29,30,20}\n",
        "usuarios_machine_learnig = {28,29,19}"
      ],
      "metadata": {
        "id": "IyxYz1MlZ4Nq"
      },
      "execution_count": null,
      "outputs": []
    },
    {
      "cell_type": "code",
      "source": [
        "usuarios_machine_learnig"
      ],
      "metadata": {
        "colab": {
          "base_uri": "https://localhost:8080/"
        },
        "id": "6AVtDDi-aZ6p",
        "outputId": "0364e33a-31d3-4a20-a5df-e015aaa88047"
      },
      "execution_count": null,
      "outputs": [
        {
          "output_type": "execute_result",
          "data": {
            "text/plain": [
              "{19, 28, 29}"
            ]
          },
          "metadata": {},
          "execution_count": 16
        }
      ]
    },
    {
      "cell_type": "code",
      "source": [
        "for usuario in set(assistiram):\n",
        "  print (usuario)"
      ],
      "metadata": {
        "colab": {
          "base_uri": "https://localhost:8080/"
        },
        "id": "qTanTjCOazKk",
        "outputId": "7a98dde4-a689-4c78-c8d1-4066c3390542"
      },
      "execution_count": null,
      "outputs": [
        {
          "output_type": "stream",
          "name": "stdout",
          "text": [
            "19\n",
            "20\n",
            "28\n",
            "29\n",
            "30\n"
          ]
        }
      ]
    },
    {
      "cell_type": "code",
      "source": [
        "usuarios_data_science = {29,30,20}\n",
        "usuarios_machine_learnig = {28,29,19}"
      ],
      "metadata": {
        "id": "tRrP3quabinp"
      },
      "execution_count": null,
      "outputs": []
    },
    {
      "cell_type": "code",
      "source": [
        "usuarios_data_science | usuarios_machine_learnig"
      ],
      "metadata": {
        "colab": {
          "base_uri": "https://localhost:8080/"
        },
        "id": "bY1eXY-Cbl-s",
        "outputId": "2d5696f1-89bf-458f-dd64-58aff79f4f8e"
      },
      "execution_count": null,
      "outputs": [
        {
          "output_type": "execute_result",
          "data": {
            "text/plain": [
              "{19, 20, 28, 29, 30}"
            ]
          },
          "metadata": {},
          "execution_count": 19
        }
      ]
    },
    {
      "cell_type": "code",
      "source": [
        "usuarios_data_science & usuarios_machine_learnig"
      ],
      "metadata": {
        "colab": {
          "base_uri": "https://localhost:8080/"
        },
        "id": "UECHWbRfb5yi",
        "outputId": "a320be5f-6a82-45da-abbb-67ca59a0797b"
      },
      "execution_count": null,
      "outputs": [
        {
          "output_type": "execute_result",
          "data": {
            "text/plain": [
              "{29}"
            ]
          },
          "metadata": {},
          "execution_count": 20
        }
      ]
    },
    {
      "cell_type": "code",
      "source": [
        "usuarios_data_science - usuarios_machine_learnig"
      ],
      "metadata": {
        "colab": {
          "base_uri": "https://localhost:8080/"
        },
        "id": "GhMy1CWjcrn0",
        "outputId": "ec9e838a-bbd4-48e4-f291-1c08bb25bae0"
      },
      "execution_count": null,
      "outputs": [
        {
          "output_type": "execute_result",
          "data": {
            "text/plain": [
              "{20, 30}"
            ]
          },
          "metadata": {},
          "execution_count": 21
        }
      ]
    },
    {
      "cell_type": "code",
      "source": [
        "fez_ds_mas_nao_fez_ml = usuarios_data_science - usuarios_machine_learnig\n",
        "20 in fez_ds_mas_nao_fez_ml"
      ],
      "metadata": {
        "colab": {
          "base_uri": "https://localhost:8080/"
        },
        "id": "YoOSA7QZc6tP",
        "outputId": "bb9b92be-b1cd-4f33-e343-018878ba180c"
      },
      "execution_count": null,
      "outputs": [
        {
          "output_type": "execute_result",
          "data": {
            "text/plain": [
              "True"
            ]
          },
          "metadata": {},
          "execution_count": 22
        }
      ]
    },
    {
      "cell_type": "code",
      "source": [
        "29 in fez_ds_mas_nao_fez_ml"
      ],
      "metadata": {
        "colab": {
          "base_uri": "https://localhost:8080/"
        },
        "id": "ZYI694-AdKAJ",
        "outputId": "2390b8bc-2bb4-4a8f-a8b0-2f6f0f5e1a39"
      },
      "execution_count": null,
      "outputs": [
        {
          "output_type": "execute_result",
          "data": {
            "text/plain": [
              "False"
            ]
          },
          "metadata": {},
          "execution_count": 23
        }
      ]
    },
    {
      "cell_type": "code",
      "source": [
        "usuarios= {1,5,76,34,52,13,17}\n",
        "len(usuarios)"
      ],
      "metadata": {
        "colab": {
          "base_uri": "https://localhost:8080/"
        },
        "id": "mdDgOovioXNi",
        "outputId": "14b11032-ad90-454c-8f28-a93d3a90e8c8"
      },
      "execution_count": null,
      "outputs": [
        {
          "output_type": "execute_result",
          "data": {
            "text/plain": [
              "7"
            ]
          },
          "metadata": {},
          "execution_count": 2
        }
      ]
    },
    {
      "cell_type": "code",
      "source": [
        "usuarios.add(13)\n",
        "len(usuarios)"
      ],
      "metadata": {
        "colab": {
          "base_uri": "https://localhost:8080/"
        },
        "id": "sX_s0zl2p1jY",
        "outputId": "8f1277fe-20b9-4d56-82b5-9dd131e88d74"
      },
      "execution_count": null,
      "outputs": [
        {
          "output_type": "execute_result",
          "data": {
            "text/plain": [
              "7"
            ]
          },
          "metadata": {},
          "execution_count": 4
        }
      ]
    },
    {
      "cell_type": "code",
      "source": [
        "usuarios.add(765)\n",
        "len(usuarios)"
      ],
      "metadata": {
        "colab": {
          "base_uri": "https://localhost:8080/"
        },
        "id": "KgEGBsK7qLMb",
        "outputId": "fe4f0750-86b2-4a98-dd56-a565cd943939"
      },
      "execution_count": null,
      "outputs": [
        {
          "output_type": "execute_result",
          "data": {
            "text/plain": [
              "8"
            ]
          },
          "metadata": {},
          "execution_count": 5
        }
      ]
    },
    {
      "cell_type": "code",
      "source": [
        "usuarios"
      ],
      "metadata": {
        "colab": {
          "base_uri": "https://localhost:8080/"
        },
        "id": "qhwtYxkMqQS0",
        "outputId": "b45a1913-596c-4a5d-9dae-a0c0a21d4a7d"
      },
      "execution_count": null,
      "outputs": [
        {
          "output_type": "execute_result",
          "data": {
            "text/plain": [
              "{1, 5, 13, 17, 34, 52, 76, 765}"
            ]
          },
          "metadata": {},
          "execution_count": 6
        }
      ]
    },
    {
      "cell_type": "code",
      "source": [
        "usuarios = frozenset(usuarios)\n",
        "usuarios"
      ],
      "metadata": {
        "colab": {
          "base_uri": "https://localhost:8080/"
        },
        "id": "QQWmAAnxqRzV",
        "outputId": "f391fcde-8130-4b08-c23c-c1e376f0b628"
      },
      "execution_count": null,
      "outputs": [
        {
          "output_type": "execute_result",
          "data": {
            "text/plain": [
              "frozenset({1, 5, 13, 17, 34, 52, 76, 765})"
            ]
          },
          "metadata": {},
          "execution_count": 7
        }
      ]
    },
    {
      "cell_type": "code",
      "source": [
        "meu_texto = \"Bem vindo meu nome é Diego e eu gosto de cachorros\"\n",
        "meu_texto.split()"
      ],
      "metadata": {
        "colab": {
          "base_uri": "https://localhost:8080/"
        },
        "id": "YGiOZTrmq_3S",
        "outputId": "d63b0542-6f35-4bc0-a74c-dca0db4ee1eb"
      },
      "execution_count": null,
      "outputs": [
        {
          "output_type": "execute_result",
          "data": {
            "text/plain": [
              "['Bem',\n",
              " 'vindo',\n",
              " 'meu',\n",
              " 'nome',\n",
              " 'é',\n",
              " 'Diego',\n",
              " 'e',\n",
              " 'eu',\n",
              " 'gosto',\n",
              " 'de',\n",
              " 'cachorros']"
            ]
          },
          "metadata": {},
          "execution_count": 8
        }
      ]
    },
    {
      "cell_type": "code",
      "source": [
        "set(meu_texto.split())\n"
      ],
      "metadata": {
        "colab": {
          "base_uri": "https://localhost:8080/"
        },
        "id": "jRoN7eYprUY2",
        "outputId": "efe373cb-d23a-4cfa-a132-1245ec6d0202"
      },
      "execution_count": null,
      "outputs": [
        {
          "output_type": "execute_result",
          "data": {
            "text/plain": [
              "{'Bem',\n",
              " 'Diego',\n",
              " 'cachorros',\n",
              " 'de',\n",
              " 'e',\n",
              " 'eu',\n",
              " 'gosto',\n",
              " 'meu',\n",
              " 'nome',\n",
              " 'vindo',\n",
              " 'é'}"
            ]
          },
          "metadata": {},
          "execution_count": 9
        }
      ]
    },
    {
      "cell_type": "markdown",
      "source": [
        "## **Dicionario (Mapa , Etc)**"
      ],
      "metadata": {
        "id": "y_crXMsYtBfY"
      }
    },
    {
      "cell_type": "code",
      "source": [
        "aparicoes = {\n",
        "\"Diego\" : 1,\n",
        "\"cachorros\" : 2,\n",
        "\"nome\" : 1\n",
        "}"
      ],
      "metadata": {
        "id": "pSnXvsnnrcmz"
      },
      "execution_count": null,
      "outputs": []
    },
    {
      "cell_type": "code",
      "source": [
        "type(aparicoes)"
      ],
      "metadata": {
        "colab": {
          "base_uri": "https://localhost:8080/"
        },
        "id": "9EH-SccWt3Nz",
        "outputId": "6a848382-0ac5-4874-ceea-6073965b4ac3"
      },
      "execution_count": null,
      "outputs": [
        {
          "output_type": "execute_result",
          "data": {
            "text/plain": [
              "dict"
            ]
          },
          "metadata": {},
          "execution_count": 18
        }
      ]
    },
    {
      "cell_type": "code",
      "source": [
        "aparicoes[\"Diego\"]"
      ],
      "metadata": {
        "colab": {
          "base_uri": "https://localhost:8080/"
        },
        "id": "N1IDJQCVt7lV",
        "outputId": "c9bf5361-718c-4b65-d393-c578e9ee9be1"
      },
      "execution_count": null,
      "outputs": [
        {
          "output_type": "execute_result",
          "data": {
            "text/plain": [
              "1"
            ]
          },
          "metadata": {},
          "execution_count": 19
        }
      ]
    },
    {
      "cell_type": "code",
      "source": [
        "aparicoes[\"cachorros\"]"
      ],
      "metadata": {
        "colab": {
          "base_uri": "https://localhost:8080/"
        },
        "id": "9quwBqbxuFUn",
        "outputId": "78c30f52-4bf6-4716-ab3d-33bb2c60bff4"
      },
      "execution_count": null,
      "outputs": [
        {
          "output_type": "execute_result",
          "data": {
            "text/plain": [
              "2"
            ]
          },
          "metadata": {},
          "execution_count": 20
        }
      ]
    },
    {
      "cell_type": "code",
      "source": [
        "aparicoes[\"Rose\"] = 2"
      ],
      "metadata": {
        "id": "UwEcmNoxuzFJ"
      },
      "execution_count": null,
      "outputs": []
    },
    {
      "cell_type": "code",
      "source": [
        "aparicoes"
      ],
      "metadata": {
        "colab": {
          "base_uri": "https://localhost:8080/"
        },
        "id": "_v5JBw-6u48f",
        "outputId": "527278e3-9ec6-489d-9f49-87385eb72161"
      },
      "execution_count": null,
      "outputs": [
        {
          "output_type": "execute_result",
          "data": {
            "text/plain": [
              "{'Diego': 1, 'cachorros': 2, 'nome': 1, 'Rose': 2}"
            ]
          },
          "metadata": {},
          "execution_count": 24
        }
      ]
    },
    {
      "cell_type": "code",
      "source": [
        "for elemento in aparicoes:\n",
        "  print(elemento)"
      ],
      "metadata": {
        "colab": {
          "base_uri": "https://localhost:8080/"
        },
        "id": "vPSw7D0vu6YL",
        "outputId": "08e971e7-ec4f-4b00-a960-f225ef23464d"
      },
      "execution_count": null,
      "outputs": [
        {
          "output_type": "stream",
          "name": "stdout",
          "text": [
            "Diego\n",
            "cachorros\n",
            "nome\n",
            "Rose\n"
          ]
        }
      ]
    },
    {
      "cell_type": "code",
      "source": [
        "for elemento in aparicoes.values():\n",
        "  print(elemento)"
      ],
      "metadata": {
        "colab": {
          "base_uri": "https://localhost:8080/"
        },
        "id": "TFKPRW7qwloo",
        "outputId": "80abd4da-20ce-48f3-8d5d-5fafea16f1d5"
      },
      "execution_count": null,
      "outputs": [
        {
          "output_type": "stream",
          "name": "stdout",
          "text": [
            "1\n",
            "2\n",
            "1\n",
            "2\n"
          ]
        }
      ]
    },
    {
      "cell_type": "markdown",
      "source": [
        "# **exemplos caso queira que apareca os nomes e os numeros**"
      ],
      "metadata": {
        "id": "jS2FABj41k9Q"
      }
    },
    {
      "cell_type": "code",
      "source": [
        "for elemento in aparicoes.keys():\n",
        "  print(elemento, aparicoes[elemento])"
      ],
      "metadata": {
        "colab": {
          "base_uri": "https://localhost:8080/"
        },
        "id": "Ru68aPDZw2rT",
        "outputId": "6a5c152b-4717-4c10-8393-097a0c2ddfe6"
      },
      "execution_count": null,
      "outputs": [
        {
          "output_type": "stream",
          "name": "stdout",
          "text": [
            "Diego 1\n",
            "cachorros 2\n",
            "nome 1\n",
            "Rose 2\n"
          ]
        }
      ]
    },
    {
      "cell_type": "code",
      "source": [
        "for elemento in aparicoes.keys(): \n",
        "  valor = aparicoes[elemento] \n",
        "  print(elemento, valor)"
      ],
      "metadata": {
        "colab": {
          "base_uri": "https://localhost:8080/"
        },
        "id": "sCdqL4Bj1g1V",
        "outputId": "55483595-d53a-4156-c9e5-16b09569f0a0"
      },
      "execution_count": null,
      "outputs": [
        {
          "output_type": "stream",
          "name": "stdout",
          "text": [
            "Diego 1\n",
            "cachorros 2\n",
            "nome 1\n",
            "Rose 2\n"
          ]
        }
      ]
    },
    {
      "cell_type": "code",
      "source": [
        "for elemento in aparicoes.items(): \n",
        "  print(elemento)"
      ],
      "metadata": {
        "colab": {
          "base_uri": "https://localhost:8080/"
        },
        "id": "6dhNJ50-1sZV",
        "outputId": "b5bb4263-7c8c-49d5-f26d-5962d97f0b1e"
      },
      "execution_count": null,
      "outputs": [
        {
          "output_type": "stream",
          "name": "stdout",
          "text": [
            "('Diego', 1)\n",
            "('cachorros', 2)\n",
            "('nome', 1)\n",
            "('Rose', 2)\n"
          ]
        }
      ]
    },
    {
      "cell_type": "code",
      "source": [
        "for chave, valor in aparicoes.items():\n",
        "  print(chave, \"=\", valor)"
      ],
      "metadata": {
        "colab": {
          "base_uri": "https://localhost:8080/"
        },
        "id": "__ndVCcj1-Z3",
        "outputId": "bbbccbf5-a109-4107-8fe4-02cf82f29d26"
      },
      "execution_count": null,
      "outputs": [
        {
          "output_type": "stream",
          "name": "stdout",
          "text": [
            "Diego = 1\n",
            "cachorros = 2\n",
            "nome = 1\n",
            "Rose = 2\n"
          ]
        }
      ]
    },
    {
      "cell_type": "code",
      "source": [
        "[\"palavra {}\".format(chave) for chave in aparicoes.keys()]"
      ],
      "metadata": {
        "colab": {
          "base_uri": "https://localhost:8080/"
        },
        "id": "1aczNMGi2U3D",
        "outputId": "4296ebc7-6e3b-4cfb-a411-29380b8444da"
      },
      "execution_count": null,
      "outputs": [
        {
          "output_type": "execute_result",
          "data": {
            "text/plain": [
              "['palavra Diego', 'palavra cachorros', 'palavra nome', 'palavra Rose']"
            ]
          },
          "metadata": {},
          "execution_count": 47
        }
      ]
    },
    {
      "cell_type": "code",
      "source": [
        "meu_texto = \"Bem vindo meu nome é Diego e eu gosto de cachorros\"\n",
        "meu_texto = meu_texto.lower()\n",
        "\n",
        "aparicoes = {}\n",
        "\n",
        "for palavra in meu_texto.split():\n",
        "  ate_agora = aparicoes.get(palavra, 0)\n",
        "  aparicoes[palavra] = ate_agora + 1\n",
        "\n",
        "aparicoes\n"
      ],
      "metadata": {
        "colab": {
          "base_uri": "https://localhost:8080/"
        },
        "id": "MDlwjNi1vR03",
        "outputId": "dfbe1bf7-4dc1-4607-9929-d9e1a53d7802"
      },
      "execution_count": null,
      "outputs": [
        {
          "output_type": "execute_result",
          "data": {
            "text/plain": [
              "{'bem': 1,\n",
              " 'vindo': 1,\n",
              " 'meu': 1,\n",
              " 'nome': 1,\n",
              " 'é': 1,\n",
              " 'diego': 1,\n",
              " 'e': 1,\n",
              " 'eu': 1,\n",
              " 'gosto': 1,\n",
              " 'de': 1,\n",
              " 'cachorros': 1}"
            ]
          },
          "metadata": {},
          "execution_count": 12
        }
      ]
    },
    {
      "cell_type": "code",
      "source": [
        "from collections import defaultdict\n",
        "\n",
        "aparicoes = defaultdict(int)\n",
        "\n",
        "for palavra in meu_texto.split():\n",
        "  ate_agora = aparicoes[palavra]\n",
        "  aparicoes[palavra] = ate_agora + 1\n",
        "\n",
        "aparicoes"
      ],
      "metadata": {
        "colab": {
          "base_uri": "https://localhost:8080/"
        },
        "id": "y9wrKnfNyDq8",
        "outputId": "3d6abecc-f9ce-489c-c207-767b3ab946e5"
      },
      "execution_count": null,
      "outputs": [
        {
          "output_type": "execute_result",
          "data": {
            "text/plain": [
              "defaultdict(int,\n",
              "            {'bem': 1,\n",
              "             'vindo': 1,\n",
              "             'meu': 1,\n",
              "             'nome': 1,\n",
              "             'é': 1,\n",
              "             'diego': 1,\n",
              "             'e': 1,\n",
              "             'eu': 1,\n",
              "             'gosto': 1,\n",
              "             'de': 1,\n",
              "             'cachorros': 1})"
            ]
          },
          "metadata": {},
          "execution_count": 16
        }
      ]
    },
    {
      "cell_type": "code",
      "source": [
        "aparicoes = defaultdict(int)\n",
        "\n",
        "for palavra in meu_texto.split():\n",
        "   aparicoes[palavra] += 1\n",
        "\n",
        "aparicoes"
      ],
      "metadata": {
        "colab": {
          "base_uri": "https://localhost:8080/"
        },
        "id": "DibyHFy4wFrS",
        "outputId": "efba32ea-1387-4f46-f3a8-e00e60cb91b6"
      },
      "execution_count": null,
      "outputs": [
        {
          "output_type": "execute_result",
          "data": {
            "text/plain": [
              "defaultdict(int,\n",
              "            {'bem': 1,\n",
              "             'vindo': 1,\n",
              "             'meu': 1,\n",
              "             'nome': 1,\n",
              "             'é': 1,\n",
              "             'diego': 1,\n",
              "             'e': 1,\n",
              "             'eu': 1,\n",
              "             'gosto': 1,\n",
              "             'de': 1,\n",
              "             'cachorros': 1})"
            ]
          },
          "metadata": {},
          "execution_count": 18
        }
      ]
    },
    {
      "cell_type": "code",
      "source": [
        "class Conta:\n",
        "  def __init__(self):\n",
        "    print(\"Criando uma conta\")"
      ],
      "metadata": {
        "id": "Gm_gZTsOwFyT"
      },
      "execution_count": null,
      "outputs": []
    },
    {
      "cell_type": "code",
      "source": [
        "contas = defaultdict(Conta)\n",
        "contas[15]"
      ],
      "metadata": {
        "colab": {
          "base_uri": "https://localhost:8080/"
        },
        "id": "P8I0vgjD2qSZ",
        "outputId": "060d14fb-074e-497b-fc80-2c19354e58d7"
      },
      "execution_count": null,
      "outputs": [
        {
          "output_type": "stream",
          "name": "stdout",
          "text": [
            "Criando uma conta\n"
          ]
        },
        {
          "output_type": "execute_result",
          "data": {
            "text/plain": [
              "<__main__.Conta at 0x7fd308a2d820>"
            ]
          },
          "metadata": {},
          "execution_count": 26
        }
      ]
    },
    {
      "cell_type": "code",
      "source": [
        "contas[25]"
      ],
      "metadata": {
        "colab": {
          "base_uri": "https://localhost:8080/"
        },
        "id": "jnP_juDY3t0P",
        "outputId": "c14f0eb7-ba2c-4e0d-de55-afc48a0a81e3"
      },
      "execution_count": null,
      "outputs": [
        {
          "output_type": "stream",
          "name": "stdout",
          "text": [
            "Criando uma conta\n"
          ]
        },
        {
          "output_type": "execute_result",
          "data": {
            "text/plain": [
              "<__main__.Conta at 0x7fd308a2dac0>"
            ]
          },
          "metadata": {},
          "execution_count": 27
        }
      ]
    },
    {
      "cell_type": "code",
      "source": [
        "from collections import Counter\n",
        "\n",
        "aparicoes = Counter()\n",
        "\n",
        "for palavra in meu_texto.split():\n",
        "   aparicoes[palavra] += 1\n",
        "\n",
        "aparicoes"
      ],
      "metadata": {
        "colab": {
          "base_uri": "https://localhost:8080/"
        },
        "id": "zQn5_whv3_3Z",
        "outputId": "ec3c48f0-30e9-42c8-9b55-8a1f3bccab00"
      },
      "execution_count": null,
      "outputs": [
        {
          "output_type": "execute_result",
          "data": {
            "text/plain": [
              "Counter({'bem': 1,\n",
              "         'vindo': 1,\n",
              "         'meu': 1,\n",
              "         'nome': 1,\n",
              "         'é': 1,\n",
              "         'diego': 1,\n",
              "         'e': 1,\n",
              "         'eu': 1,\n",
              "         'gosto': 1,\n",
              "         'de': 1,\n",
              "         'cachorros': 1})"
            ]
          },
          "metadata": {},
          "execution_count": 29
        }
      ]
    },
    {
      "cell_type": "code",
      "source": [
        "aparicoes = Counter(meu_texto.split())\n",
        "\n",
        "aparicoes"
      ],
      "metadata": {
        "colab": {
          "base_uri": "https://localhost:8080/"
        },
        "id": "YVHB2LAl4ZfI",
        "outputId": "bd7777a5-f732-4629-ba19-1ca45144f5a9"
      },
      "execution_count": null,
      "outputs": [
        {
          "output_type": "execute_result",
          "data": {
            "text/plain": [
              "Counter({'bem': 1,\n",
              "         'vindo': 1,\n",
              "         'meu': 1,\n",
              "         'nome': 1,\n",
              "         'é': 1,\n",
              "         'diego': 1,\n",
              "         'e': 1,\n",
              "         'eu': 1,\n",
              "         'gosto': 1,\n",
              "         'de': 1,\n",
              "         'cachorros': 1})"
            ]
          },
          "metadata": {},
          "execution_count": 30
        }
      ]
    },
    {
      "cell_type": "markdown",
      "source": [
        "## **Testando o uso de diversas coleçoes**"
      ],
      "metadata": {
        "id": "ZhTTieSR5f1x"
      }
    },
    {
      "cell_type": "code",
      "source": [
        "texto1 = \"\"\"Por fim, vamos colocar tudo isso em prática para vermos algum exemplo diferente? \n",
        "Então o que eu queria fazer agora não é um contador de palavras, eu fazer um contador de letras \n",
        "para vermos uma coisa interessante que acontece na língua portuguesa e em outras línguas, para ser sincero, também. Então eu vou criar aqui \n",
        "uma nova sessão que é Testando o uso de diversas coleções.\n",
        "\"\"\""
      ],
      "metadata": {
        "id": "4ByUJ16q5c5c"
      },
      "execution_count": 38,
      "outputs": []
    },
    {
      "cell_type": "code",
      "source": [
        "texto2 = \"\"\"Então o que vamos fazer é o seguinte: vamos pegar dois textos, por exemplo eu posso entrar no blog da Alura \n",
        "e pegar textos do blog da Alura. \n",
        "Eu posso pegar um texto que está falando sobre expressões regulares e posso pegar \n",
        "um outro texto de outro assunto, só para não termos dois assuntos similares. Vou pegar um o outro assunto,\n",
        "temos um de programação e um aqui que é de negócios: B2C, B2B, coisas do gênero. Então dois assuntos distintos,\n",
        "um de programação e um não de programação.\n",
        "\"\"\""
      ],
      "metadata": {
        "id": "8I8SuZZH6j3h"
      },
      "execution_count": 39,
      "outputs": []
    },
    {
      "cell_type": "code",
      "source": [
        "aparicoes = Counter(texto1.lower())\n",
        "aparicoes.values()"
      ],
      "metadata": {
        "colab": {
          "base_uri": "https://localhost:8080/"
        },
        "id": "P7AZHttV7a-0",
        "outputId": "55a32948-2efa-48a4-aadf-5e61a225db96"
      },
      "execution_count": 55,
      "outputs": [
        {
          "output_type": "execute_result",
          "data": {
            "text/plain": [
              "dict_values([8, 30, 25, 65, 4, 11, 14, 4, 7, 37, 23, 11, 8, 16, 21, 9, 38, 1, 5, 1, 15, 1, 4, 4, 5, 2, 3, 2, 1, 2, 1, 1])"
            ]
          },
          "metadata": {},
          "execution_count": 55
        }
      ]
    },
    {
      "cell_type": "code",
      "source": [
        "aparicoes = Counter(texto1.lower())\n",
        "total_de_caracteres = sum(aparicoes.values())\n"
      ],
      "metadata": {
        "id": "-CVAmo3CADvU"
      },
      "execution_count": 69,
      "outputs": []
    },
    {
      "cell_type": "code",
      "source": [
        "aparicoes = Counter(texto1.lower())\n",
        "total_de_caracteres = sum(aparicoes.values())\n",
        "for letra, frequencia in aparicoes.items():\n",
        "    tupla=(letra, frequencia / total_de_caracteres)\n",
        "    print(tupla)"
      ],
      "metadata": {
        "colab": {
          "base_uri": "https://localhost:8080/"
        },
        "id": "oaIbRZQiAI97",
        "outputId": "d1d64204-b543-4589-b820-84af12e20069"
      },
      "execution_count": 57,
      "outputs": [
        {
          "output_type": "stream",
          "name": "stdout",
          "text": [
            "('p', 0.021108179419525065)\n",
            "('o', 0.079155672823219)\n",
            "('r', 0.06596306068601583)\n",
            "(' ', 0.17150395778364116)\n",
            "('f', 0.010554089709762533)\n",
            "('i', 0.029023746701846966)\n",
            "('m', 0.036939313984168866)\n",
            "(',', 0.010554089709762533)\n",
            "('v', 0.018469656992084433)\n",
            "('a', 0.09762532981530343)\n",
            "('s', 0.06068601583113457)\n",
            "('c', 0.029023746701846966)\n",
            "('l', 0.021108179419525065)\n",
            "('t', 0.04221635883905013)\n",
            "('u', 0.055408970976253295)\n",
            "('d', 0.023746701846965697)\n",
            "('e', 0.10026385224274406)\n",
            "('á', 0.002638522427440633)\n",
            "('g', 0.013192612137203167)\n",
            "('x', 0.002638522427440633)\n",
            "('n', 0.0395778364116095)\n",
            "('?', 0.002638522427440633)\n",
            "('\\n', 0.010554089709762533)\n",
            "('ã', 0.010554089709762533)\n",
            "('q', 0.013192612137203167)\n",
            "('z', 0.005277044854881266)\n",
            "('é', 0.0079155672823219)\n",
            "('í', 0.005277044854881266)\n",
            "('b', 0.002638522427440633)\n",
            "('.', 0.005277044854881266)\n",
            "('ç', 0.002638522427440633)\n",
            "('õ', 0.002638522427440633)\n"
          ]
        }
      ]
    },
    {
      "cell_type": "code",
      "source": [
        "aparicoes = Counter(texto1.lower())\n",
        "total_de_caracteres = sum(aparicoes.values())\n",
        "\n",
        "[(letra, frequencia / total_de_caracteres) for letra, frequencia in aparicoes.items()]"
      ],
      "metadata": {
        "colab": {
          "base_uri": "https://localhost:8080/"
        },
        "id": "PDoO9_nTANZU",
        "outputId": "831fbe9c-92fa-4f94-9aba-5e8a043e8fe9"
      },
      "execution_count": 58,
      "outputs": [
        {
          "output_type": "execute_result",
          "data": {
            "text/plain": [
              "[('p', 0.021108179419525065),\n",
              " ('o', 0.079155672823219),\n",
              " ('r', 0.06596306068601583),\n",
              " (' ', 0.17150395778364116),\n",
              " ('f', 0.010554089709762533),\n",
              " ('i', 0.029023746701846966),\n",
              " ('m', 0.036939313984168866),\n",
              " (',', 0.010554089709762533),\n",
              " ('v', 0.018469656992084433),\n",
              " ('a', 0.09762532981530343),\n",
              " ('s', 0.06068601583113457),\n",
              " ('c', 0.029023746701846966),\n",
              " ('l', 0.021108179419525065),\n",
              " ('t', 0.04221635883905013),\n",
              " ('u', 0.055408970976253295),\n",
              " ('d', 0.023746701846965697),\n",
              " ('e', 0.10026385224274406),\n",
              " ('á', 0.002638522427440633),\n",
              " ('g', 0.013192612137203167),\n",
              " ('x', 0.002638522427440633),\n",
              " ('n', 0.0395778364116095),\n",
              " ('?', 0.002638522427440633),\n",
              " ('\\n', 0.010554089709762533),\n",
              " ('ã', 0.010554089709762533),\n",
              " ('q', 0.013192612137203167),\n",
              " ('z', 0.005277044854881266),\n",
              " ('é', 0.0079155672823219),\n",
              " ('í', 0.005277044854881266),\n",
              " ('b', 0.002638522427440633),\n",
              " ('.', 0.005277044854881266),\n",
              " ('ç', 0.002638522427440633),\n",
              " ('õ', 0.002638522427440633)]"
            ]
          },
          "metadata": {},
          "execution_count": 58
        }
      ]
    },
    {
      "cell_type": "code",
      "source": [
        "analisa_frequencia_de_letras(texto1)"
      ],
      "metadata": {
        "colab": {
          "base_uri": "https://localhost:8080/"
        },
        "id": "U5jW6JC8AxUB",
        "outputId": "d6fb5755-869c-4004-d629-854edb742f1b"
      },
      "execution_count": 66,
      "outputs": [
        {
          "output_type": "stream",
          "name": "stdout",
          "text": [
            "  => 17.15%\n",
            "e => 10.03%\n",
            "a => 9.76%\n",
            "o => 7.92%\n",
            "r => 6.60%\n",
            "s => 6.07%\n",
            "u => 5.54%\n",
            "t => 4.22%\n",
            "n => 3.96%\n",
            "m => 3.69%\n"
          ]
        }
      ]
    },
    {
      "cell_type": "code",
      "source": [
        "def analisa_frequencia_de_letras(texto):\n",
        "  aparicoes = Counter(texto.lower())\n",
        "  total_de_caracteres = sum(aparicoes.values())\n",
        "\n",
        "  proporcoes = [(letra, frequencia / total_de_caracteres) for letra, frequencia in aparicoes.items()]\n",
        "  proporcoes = Counter(dict(proporcoes))\n",
        "  mais_comuns = proporcoes.most_common(10)\n",
        "  for caractere, proporcao in mais_comuns:\n",
        "    print(\"{} => {:.2f}%\".format(caractere, proporcao * 100))\n",
        "analisa_frequencia_de_letras(texto1)"
      ],
      "metadata": {
        "colab": {
          "base_uri": "https://localhost:8080/"
        },
        "id": "l-hsr7ddASdc",
        "outputId": "083b8b28-ba93-455b-988c-7b67e6f59aae"
      },
      "execution_count": 64,
      "outputs": [
        {
          "output_type": "stream",
          "name": "stdout",
          "text": [
            "  => 17.15%\n",
            "e => 10.03%\n",
            "a => 9.76%\n",
            "o => 7.92%\n",
            "r => 6.60%\n",
            "s => 6.07%\n",
            "u => 5.54%\n",
            "t => 4.22%\n",
            "n => 3.96%\n",
            "m => 3.69%\n"
          ]
        }
      ]
    },
    {
      "cell_type": "code",
      "source": [
        "analisa_frequencia_de_letras(texto2)"
      ],
      "metadata": {
        "colab": {
          "base_uri": "https://localhost:8080/"
        },
        "id": "asKSEm_gA3cz",
        "outputId": "72802d93-1230-4e07-8d3f-ee8fd00d27b9"
      },
      "execution_count": 67,
      "outputs": [
        {
          "output_type": "stream",
          "name": "stdout",
          "text": [
            "  => 17.62%\n",
            "o => 11.07%\n",
            "e => 8.81%\n",
            "s => 8.20%\n",
            "a => 6.76%\n",
            "r => 5.74%\n",
            "u => 5.12%\n",
            "t => 4.92%\n",
            "m => 3.28%\n",
            "n => 3.07%\n"
          ]
        }
      ]
    },
    {
      "cell_type": "code",
      "source": [
        "def analisa_frequencia_de_letras(texto):\n",
        "  aparicoes = Counter(texto.lower())\n",
        "  total_de_caracteres = sum(aparicoes.values())\n",
        "\n",
        "  proporcoes = [(letra, frequencia / total_de_caracteres) for letra, frequencia in aparicoes.items()]\n",
        "  proporcoes = Counter(dict(proporcoes))\n",
        "  mais_comuns = proporcoes.most_common(10)\n",
        "  for caractere, proporcao in mais_comuns:\n",
        "    print(\"{} => {:.2f}%\".format(caractere, proporcao * 100))\n",
        "analisa_frequencia_de_letras(texto2)"
      ],
      "metadata": {
        "colab": {
          "base_uri": "https://localhost:8080/"
        },
        "id": "UEeNOfdWA7g9",
        "outputId": "71fa1a56-d6ca-4672-84f0-979f897aeb8f"
      },
      "execution_count": 68,
      "outputs": [
        {
          "output_type": "stream",
          "name": "stdout",
          "text": [
            "  => 17.62%\n",
            "o => 11.07%\n",
            "e => 8.81%\n",
            "s => 8.20%\n",
            "a => 6.76%\n",
            "r => 5.74%\n",
            "u => 5.12%\n",
            "t => 4.92%\n",
            "m => 3.28%\n",
            "n => 3.07%\n"
          ]
        }
      ]
    }
  ]
}